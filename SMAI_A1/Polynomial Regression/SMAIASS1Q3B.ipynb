{
  "nbformat": 4,
  "nbformat_minor": 0,
  "metadata": {
    "colab": {
      "provenance": []
    },
    "kernelspec": {
      "name": "python3",
      "display_name": "Python 3"
    },
    "language_info": {
      "name": "python"
    }
  },
  "cells": [
    {
      "cell_type": "code",
      "source": [
        "import numpy as np\n",
        "import pandas as pd\n",
        "from sklearn.model_selection import train_test_split"
      ],
      "metadata": {
        "id": "GlMtl8xyZDmm"
      },
      "execution_count": 1,
      "outputs": []
    },
    {
      "cell_type": "code",
      "source": [
        "data = pd.read_csv('credit.csv')\n",
        "\n",
        "print(data.head())\n",
        "\n",
        "X = data[[ 'Income','Limit', 'Rating', 'Cards', 'Age', 'Education']].values\n",
        "\n",
        "y = data['Balance'].values"
      ],
      "metadata": {
        "colab": {
          "base_uri": "https://localhost:8080/"
        },
        "id": "DAs_Ddv6b0KD",
        "outputId": "5ac39bd6-4601-409c-c2cd-eedb154e9b11"
      },
      "execution_count": 2,
      "outputs": [
        {
          "output_type": "stream",
          "name": "stdout",
          "text": [
            "    Income  Limit  Rating  Cards  Age  Education  Balance\n",
            "0   14.891   3606     283      2   34         11      333\n",
            "1  106.025   6645     483      3   82         15      903\n",
            "2  104.593   7075     514      4   71         11      580\n",
            "3  148.924   9504     681      3   36         11      964\n",
            "4   55.882   4897     357      2   68         16      331\n"
          ]
        }
      ]
    },
    {
      "cell_type": "code",
      "source": [
        "X"
      ],
      "metadata": {
        "colab": {
          "base_uri": "https://localhost:8080/"
        },
        "id": "Em3_UGekfHkk",
        "outputId": "cdec6648-1f16-4bf6-db8d-dc1cc22cf6a6"
      },
      "execution_count": 3,
      "outputs": [
        {
          "output_type": "execute_result",
          "data": {
            "text/plain": [
              "array([[1.48910e+01, 3.60600e+03, 2.83000e+02, 2.00000e+00, 3.40000e+01,\n",
              "        1.10000e+01],\n",
              "       [1.06025e+02, 6.64500e+03, 4.83000e+02, 3.00000e+00, 8.20000e+01,\n",
              "        1.50000e+01],\n",
              "       [1.04593e+02, 7.07500e+03, 5.14000e+02, 4.00000e+00, 7.10000e+01,\n",
              "        1.10000e+01],\n",
              "       ...,\n",
              "       [5.78720e+01, 4.17100e+03, 3.21000e+02, 5.00000e+00, 6.70000e+01,\n",
              "        1.20000e+01],\n",
              "       [3.77280e+01, 2.52500e+03, 1.92000e+02, 1.00000e+00, 4.40000e+01,\n",
              "        1.30000e+01],\n",
              "       [1.87010e+01, 5.52400e+03, 4.15000e+02, 5.00000e+00, 6.40000e+01,\n",
              "        7.00000e+00]])"
            ]
          },
          "metadata": {},
          "execution_count": 3
        }
      ]
    },
    {
      "cell_type": "code",
      "source": [
        "y"
      ],
      "metadata": {
        "colab": {
          "base_uri": "https://localhost:8080/"
        },
        "id": "-_J6n4DbfKTU",
        "outputId": "6d332559-505c-42a6-d10f-18b54f993ac9"
      },
      "execution_count": 4,
      "outputs": [
        {
          "output_type": "execute_result",
          "data": {
            "text/plain": [
              "array([ 333,  903,  580,  964,  331, 1151,  203,  872,  279, 1350, 1407,\n",
              "          0,  204, 1081,  148,    0,    0,  368,  891, 1048,   89,  968,\n",
              "          0,  411,    0,  671,  654,  467, 1809,  915,  863,    0,  526,\n",
              "          0,    0,  419,  762, 1093,  531,  344,   50, 1155,  385,  976,\n",
              "       1120,  997, 1241,  797,    0,  902,  654,  211,  607,  957,    0,\n",
              "          0,  379,  133,  333,  531,  631,  108,    0,  133,    0,  602,\n",
              "       1388,  889,  822, 1084,  357, 1103,  663,  601,  945,   29,  532,\n",
              "        145,  391,    0,  162,   99,  503,    0,    0, 1779,  815,    0,\n",
              "        579, 1176, 1023,  812,    0,  937,    0,    0, 1380,  155,  375,\n",
              "       1311,  298,  431, 1587, 1050,  745,  210,    0,    0,  227,  297,\n",
              "         47,    0, 1046,  768,  271,  510,    0, 1341,    0,    0,    0,\n",
              "        454,  904,    0,    0,    0, 1404,    0, 1259,  255,  868,    0,\n",
              "        912, 1018,  835,    8,   75,  187,    0, 1597, 1425,  605,  669,\n",
              "        710,   68,  642,  805,    0,    0,    0,  581,  534,  156,    0,\n",
              "          0,    0,  429, 1020,  653,    0,  836,    0, 1086,    0,  548,\n",
              "        570,    0,    0,    0, 1099,    0,  283,  108,  724, 1573,    0,\n",
              "          0,  384,  453, 1237,  423,  516,  789,    0, 1448,  450,  188,\n",
              "          0,  930,  126,  538, 1687,  336, 1426,    0,  802,  749,   69,\n",
              "          0,  571,  829, 1048,    0, 1411,  456,  638,    0, 1216,  230,\n",
              "        732,   95,  799,  308,  637,  681,  246,   52,  955,  195,  653,\n",
              "       1246, 1230, 1549,  573,  701, 1075, 1032,  482,  156, 1058,  661,\n",
              "        657,  689,    0, 1329,  191,  489,  443,   52,  163,  148,    0,\n",
              "         16,  856,    0,    0,  199,    0,    0,   98,    0,  132, 1355,\n",
              "        218, 1048,  118,    0,    0,    0, 1092,  345, 1050,  465,  133,\n",
              "        651,  549,   15,  942,    0,  772,  136,  436,  728, 1255,  967,\n",
              "        529,  209,  531,  250,  269,  541,    0, 1298,  890,    0,    0,\n",
              "          0,    0,  863,  485,  159,  309,  481, 1677,    0,    0,  293,\n",
              "        188,    0,  711,  580,  172,  295,  414,  905,    0,   70,    0,\n",
              "        681,  885, 1036,  844,  823,  843, 1140,  463, 1142,  136,    0,\n",
              "          0,    5,   81,  265, 1999,  415,  732, 1361,  984,  121,  846,\n",
              "       1054,  474,  380,  182,  594,  194,  926,    0,  606, 1107,  320,\n",
              "        426,  204,  410,  633,    0,  907, 1192,    0,  503,    0,  302,\n",
              "        583,  425,  413, 1405,  962,    0,  347,  611,  712,  382,  710,\n",
              "        578, 1243,  790, 1264,  216,  345, 1208,  992,    0,  840, 1003,\n",
              "        588, 1000,  767,    0,  717,    0,  661,  849, 1352,  382,    0,\n",
              "        905,  371,    0, 1129,  806, 1393,  721,    0,    0,  734,  560,\n",
              "        480,  138,    0,  966])"
            ]
          },
          "metadata": {},
          "execution_count": 4
        }
      ]
    },
    {
      "cell_type": "code",
      "source": [
        "class MLR:\n",
        "  def __init__(self):\n",
        "    self.coef = None\n",
        "    self.intercept=None\n",
        "  def fit(self,X_train,y_train):\n",
        "    X_train = np.insert(X_train,0,1,axis=1)\n",
        "\n",
        "    betas=np.linalg.inv(np.dot(X_train.T,X_train)).dot(X_train.T).dot(y_train)\n",
        "    self.intercept = betas[0]\n",
        "    self.coef =betas[1:]\n",
        "\n",
        "  def predict(self,X_test):\n",
        "    y_pred = np.dot(X_test,self.coef) + self.intercept\n",
        "    return y_pred\n"
      ],
      "metadata": {
        "id": "_IWaKs8LZKqJ"
      },
      "execution_count": 5,
      "outputs": []
    },
    {
      "cell_type": "code",
      "source": [
        "X_train,X_test,y_train,y_test = train_test_split(X,y,test_size=0.2,random_state=2)"
      ],
      "metadata": {
        "id": "e3aOITxmcF-g"
      },
      "execution_count": 6,
      "outputs": []
    },
    {
      "cell_type": "code",
      "source": [
        "mlr=MLR()"
      ],
      "metadata": {
        "id": "-eIAEJNPatZh"
      },
      "execution_count": 7,
      "outputs": []
    },
    {
      "cell_type": "code",
      "source": [
        "mlr.fit(X_train,y_train)\n"
      ],
      "metadata": {
        "id": "HqedgyB-a0_3"
      },
      "execution_count": 8,
      "outputs": []
    },
    {
      "cell_type": "code",
      "source": [
        "X_train.shape"
      ],
      "metadata": {
        "colab": {
          "base_uri": "https://localhost:8080/"
        },
        "id": "dr5C4aWaa_zU",
        "outputId": "59b3c959-0abb-45a0-fa64-94b4d7b1a683"
      },
      "execution_count": 9,
      "outputs": [
        {
          "output_type": "execute_result",
          "data": {
            "text/plain": [
              "(320, 6)"
            ]
          },
          "metadata": {},
          "execution_count": 9
        }
      ]
    },
    {
      "cell_type": "code",
      "source": [
        "y_train.shape"
      ],
      "metadata": {
        "colab": {
          "base_uri": "https://localhost:8080/"
        },
        "id": "tp1cLH2HgFOE",
        "outputId": "d9eff6f3-451b-4c2e-dd5d-fcaee55de35c"
      },
      "execution_count": 10,
      "outputs": [
        {
          "output_type": "execute_result",
          "data": {
            "text/plain": [
              "(320,)"
            ]
          },
          "metadata": {},
          "execution_count": 10
        }
      ]
    },
    {
      "cell_type": "code",
      "source": [
        "X_test.shape"
      ],
      "metadata": {
        "colab": {
          "base_uri": "https://localhost:8080/"
        },
        "id": "AMpZuRIcgLxe",
        "outputId": "52860545-2bc7-4294-a9a7-87b6bf193bf4"
      },
      "execution_count": 11,
      "outputs": [
        {
          "output_type": "execute_result",
          "data": {
            "text/plain": [
              "(80, 6)"
            ]
          },
          "metadata": {},
          "execution_count": 11
        }
      ]
    },
    {
      "cell_type": "code",
      "source": [
        "\n",
        "y_pred=mlr.predict(X_test)"
      ],
      "metadata": {
        "id": "wlm071adbMyb"
      },
      "execution_count": 13,
      "outputs": []
    },
    {
      "cell_type": "code",
      "source": [
        "y_pred.shape"
      ],
      "metadata": {
        "colab": {
          "base_uri": "https://localhost:8080/"
        },
        "id": "If_p-zfPgRjz",
        "outputId": "bc9f36a9-3cd0-40cb-858e-be39ff53a397"
      },
      "execution_count": 14,
      "outputs": [
        {
          "output_type": "execute_result",
          "data": {
            "text/plain": [
              "(80,)"
            ]
          },
          "metadata": {},
          "execution_count": 14
        }
      ]
    },
    {
      "cell_type": "code",
      "source": [
        "mlr.coef"
      ],
      "metadata": {
        "colab": {
          "base_uri": "https://localhost:8080/"
        },
        "id": "SWFq6h-hbjU7",
        "outputId": "216244e0-7a2c-43b1-db6c-218d4f0b93d0"
      },
      "execution_count": 15,
      "outputs": [
        {
          "output_type": "execute_result",
          "data": {
            "text/plain": [
              "array([-7.61146433,  0.11606681,  2.208801  , 13.01792739, -0.95182104,\n",
              "        1.87314114])"
            ]
          },
          "metadata": {},
          "execution_count": 15
        }
      ]
    },
    {
      "cell_type": "code",
      "source": [
        "mlr.intercept"
      ],
      "metadata": {
        "colab": {
          "base_uri": "https://localhost:8080/"
        },
        "id": "NyKGtZykbmB-",
        "outputId": "e6e7eccd-12ed-4dbd-a3b7-b99a23a08fa6"
      },
      "execution_count": 16,
      "outputs": [
        {
          "output_type": "execute_result",
          "data": {
            "text/plain": [
              "-477.09824186260346"
            ]
          },
          "metadata": {},
          "execution_count": 16
        }
      ]
    },
    {
      "cell_type": "code",
      "source": [
        "mse = np.mean((y_test - y_pred) ** 2)\n",
        "rmse = np.sqrt(mse)\n",
        "r_squared = 1 - (np.sum((y_test - y_pred) ** 2) / np.sum((y_test - np.mean(y_test)) ** 2))\n",
        "\n",
        "print(\"Mean Squared Error (MSE):\", mse)\n",
        "print(\"Root Mean Squared Error (RMSE):\", rmse)\n",
        "print(\"R-squared (R^2) score:\", r_squared)"
      ],
      "metadata": {
        "id": "ATQlP7IQatiV",
        "outputId": "7a019504-3b7c-430c-daa6-8bb5c74ceb97",
        "colab": {
          "base_uri": "https://localhost:8080/"
        }
      },
      "execution_count": 17,
      "outputs": [
        {
          "output_type": "stream",
          "name": "stdout",
          "text": [
            "Mean Squared Error (MSE): 22509.774790793454\n",
            "Root Mean Squared Error (RMSE): 150.0325790979861\n",
            "R-squared (R^2) score: 0.8857803994520866\n"
          ]
        }
      ]
    },
    {
      "cell_type": "code",
      "source": [
        "X2 = data[[ 'Income', 'Rating', 'Cards', 'Age', 'Education']].values\n",
        "\n",
        "y2 = data['Balance'].values\n",
        "\n",
        "X_train2,X_test2,y_train2,y_test2 = train_test_split(X2,y2,test_size=0.2,random_state=2)\n",
        "mlr2=MLR()\n",
        "mlr2.fit(X_train2,y_train2)\n",
        "y_pred2=mlr2.predict(X_test2)\n",
        "\n",
        "mlr2.intercept"
      ],
      "metadata": {
        "id": "4up82kQeZePd",
        "outputId": "bb06e56d-d8bc-4bc9-a593-d76d81855f85",
        "colab": {
          "base_uri": "https://localhost:8080/"
        }
      },
      "execution_count": 18,
      "outputs": [
        {
          "output_type": "execute_result",
          "data": {
            "text/plain": [
              "-518.3648649492288"
            ]
          },
          "metadata": {},
          "execution_count": 18
        }
      ]
    },
    {
      "cell_type": "code",
      "source": [
        "mlr2.coef"
      ],
      "metadata": {
        "id": "3ElzLWRHbQiV",
        "outputId": "d7630120-20f1-4395-c705-0905c396f3d5",
        "colab": {
          "base_uri": "https://localhost:8080/"
        }
      },
      "execution_count": 19,
      "outputs": [
        {
          "output_type": "execute_result",
          "data": {
            "text/plain": [
              "array([-7.56803953,  3.93258227,  4.51957773, -0.97760584,  2.15972987])"
            ]
          },
          "metadata": {},
          "execution_count": 19
        }
      ]
    },
    {
      "cell_type": "code",
      "source": [
        "mse2 = np.mean((y_test2 - y_pred2) ** 2)\n",
        "rmse2 = np.sqrt(mse)\n",
        "r_squared2 = 1 - (np.sum((y_test2 - y_pred2) ** 2) / np.sum((y_test2 - np.mean(y_test2)) ** 2))\n",
        "\n",
        "print(\"Mean Squared Error (MSE):\", mse2)\n",
        "print(\"Root Mean Squared Error (RMSE):\", rmse2)\n",
        "print(\"R-squared (R^2) score:\", r_squared2)"
      ],
      "metadata": {
        "colab": {
          "base_uri": "https://localhost:8080/"
        },
        "id": "dp1nbKGpqExu",
        "outputId": "c131c4aa-3778-4716-e000-c6e537fe7e73"
      },
      "execution_count": 20,
      "outputs": [
        {
          "output_type": "stream",
          "name": "stdout",
          "text": [
            "Mean Squared Error (MSE): 23045.682028574218\n",
            "Root Mean Squared Error (RMSE): 150.0325790979861\n",
            "R-squared (R^2) score: 0.8830610870112048\n"
          ]
        }
      ]
    },
    {
      "cell_type": "code",
      "source": [],
      "metadata": {
        "id": "KCFhILqEI7V8"
      },
      "execution_count": null,
      "outputs": []
    },
    {
      "cell_type": "code",
      "source": [
        "\n",
        "\n",
        "data['Rating_Age'] = data['Rating'] * data['Age']\n",
        "\n",
        "X1= data[['Income', 'Rating', 'Cards', 'Age', 'Education', 'Rating_Age']].values\n",
        "y1 = data['Balance'].values\n",
        "X_train1,X_test1,y_train1,y_test1 = train_test_split(X1,y1,test_size=0.2,random_state=2)\n",
        "\n",
        "\n",
        "\n"
      ],
      "metadata": {
        "id": "oFVTMzrjresD"
      },
      "execution_count": 22,
      "outputs": []
    },
    {
      "cell_type": "code",
      "source": [
        "mlr1=MLR()\n",
        "mlr1.fit(X_train1,y_train1)\n",
        "y_pred1=mlr1.predict(X_test1)"
      ],
      "metadata": {
        "id": "o73X--YOtyZF"
      },
      "execution_count": 23,
      "outputs": []
    },
    {
      "cell_type": "code",
      "source": [
        "mlr1.coef"
      ],
      "metadata": {
        "id": "g-8XmDbAbk_x",
        "outputId": "3f771032-abb1-4381-a95b-214f79f22aac",
        "colab": {
          "base_uri": "https://localhost:8080/"
        }
      },
      "execution_count": 25,
      "outputs": [
        {
          "output_type": "execute_result",
          "data": {
            "text/plain": [
              "array([-7.54413535e+00,  3.99638055e+00,  4.39895369e+00, -5.77780006e-01,\n",
              "        2.19583714e+00, -1.12052284e-03])"
            ]
          },
          "metadata": {},
          "execution_count": 25
        }
      ]
    },
    {
      "cell_type": "code",
      "source": [
        "mlr1.intercept"
      ],
      "metadata": {
        "id": "43ZHfnThbpOH",
        "outputId": "5e935705-88cc-41bb-9c1f-7ba84e7de6ac",
        "colab": {
          "base_uri": "https://localhost:8080/"
        }
      },
      "execution_count": 26,
      "outputs": [
        {
          "output_type": "execute_result",
          "data": {
            "text/plain": [
              "-542.0295652291595"
            ]
          },
          "metadata": {},
          "execution_count": 26
        }
      ]
    },
    {
      "cell_type": "code",
      "source": [
        "mse1 = np.mean((y_test1 - y_pred1) ** 2)\n",
        "rmse1 = np.sqrt(mse1)\n",
        "r_squared1 = 1 - (np.sum((y_test1 - y_pred1) ** 2) / np.sum((y_test1 - np.mean(y_test1)) ** 2))\n",
        "\n",
        "print(\"Mean Squared Error (MSE):\", mse1)\n",
        "print(\"Root Mean Squared Error (RMSE):\", rmse1)\n",
        "print(\"R-squared (R^2) score:\", r_squared1)"
      ],
      "metadata": {
        "colab": {
          "base_uri": "https://localhost:8080/"
        },
        "id": "5W2BGdkLtbE1",
        "outputId": "b5ebba60-761d-4e80-a530-75f5b016679e"
      },
      "execution_count": 24,
      "outputs": [
        {
          "output_type": "stream",
          "name": "stdout",
          "text": [
            "Mean Squared Error (MSE): 22926.183192536282\n",
            "Root Mean Squared Error (RMSE): 151.4139464928389\n",
            "R-squared (R^2) score: 0.8836674506663301\n"
          ]
        }
      ]
    },
    {
      "cell_type": "code",
      "source": [],
      "metadata": {
        "id": "6IzB9-Bx4xtI"
      },
      "execution_count": null,
      "outputs": []
    }
  ]
}